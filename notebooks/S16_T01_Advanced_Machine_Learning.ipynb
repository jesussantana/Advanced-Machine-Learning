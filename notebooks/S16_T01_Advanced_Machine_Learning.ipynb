{
 "metadata": {
  "language_info": {
   "codemirror_mode": {
    "name": "ipython",
    "version": 3
   },
   "file_extension": ".py",
   "mimetype": "text/x-python",
   "name": "python",
   "nbconvert_exporter": "python",
   "pygments_lexer": "ipython3",
   "version": "3.8.5"
  },
  "orig_nbformat": 4,
  "kernelspec": {
   "name": "python3",
   "display_name": "Python 3.8.5 64-bit"
  },
  "interpreter": {
   "hash": "31f2aee4e71d21fbe5cf8b01ff0e069b9275f58929596ceb00d14d90e3e16cd6"
  }
 },
 "nbformat": 4,
 "nbformat_minor": 2,
 "cells": [
  {
   "source": [
    "# IT Academy - Data Science with Python\n",
    "## S16 T01: Advanced Machine Learning (In process)\n",
    "### [Github Advanced Machine Learning](https://github.com/jesussantana/Advanced-Machine-Learning)\n",
    "\n",
    "[![forthebadge made-with-python](http://ForTheBadge.com/images/badges/made-with-python.svg)](https://www.python.org/)  \n",
    "[![Made withJupyter](https://img.shields.io/badge/Made%20with-Jupyter-orange?style=for-the-badge&logo=Jupyter)](https://jupyter.org/try)  \n",
    "[![wakatime](https://wakatime.com/badge/github/jesussantana/Advanced-Machine-Learning.svg)](https://wakatime.com/badge/github/jesussantana/Advanced-Machine-Learning)"
   ],
   "cell_type": "markdown",
   "metadata": {}
  },
  {
   "source": [
    "## Auto Import Python Libraries"
   ],
   "cell_type": "markdown",
   "metadata": {}
  },
  {
   "cell_type": "code",
   "execution_count": 1,
   "metadata": {},
   "outputs": [
    {
     "output_type": "execute_result",
     "data": {
      "text/plain": [
       "'%pip install --upgrade pyforest\\n!python -m pyforest install_extensions'"
      ]
     },
     "metadata": {},
     "execution_count": 1
    }
   ],
   "source": [
    "\"\"\"%pip install --upgrade pyforest\n",
    "!python -m pyforest install_extensions\"\"\"\n",
    "#!pip install pyforest"
   ]
  },
  {
   "cell_type": "code",
   "execution_count": null,
   "metadata": {},
   "outputs": [],
   "source": []
  },
  {
   "cell_type": "code",
   "execution_count": 2,
   "metadata": {},
   "outputs": [],
   "source": [
    "# Import Dependencies\n",
    "# ==============================================================================\n",
    "\n",
    "from pyforest import *"
   ]
  },
  {
   "cell_type": "code",
   "execution_count": 3,
   "metadata": {},
   "outputs": [
    {
     "output_type": "execute_result",
     "data": {
      "text/plain": [
       "['from sklearn.linear_model import LinearRegression',\n",
       " 'from sklearn.linear_model import LogisticRegression',\n",
       " 'import plotly as py',\n",
       " 'from sklearn.decomposition import PCA',\n",
       " 'from sklearn.ensemble import RandomForestClassifier',\n",
       " 'from sklearn.preprocessing import PolynomialFeatures',\n",
       " 'import torch',\n",
       " 'import sklearn',\n",
       " 'from sklearn.linear_model import ElasticNetCV',\n",
       " 'import os',\n",
       " 'from statsmodels.tsa.arima_model import ARIMA',\n",
       " 'from sklearn.manifold import TSNE',\n",
       " 'from sklearn.preprocessing import StandardScaler',\n",
       " 'from sklearn.preprocessing import LabelEncoder',\n",
       " 'from openpyxl import load_workbook',\n",
       " 'import keras',\n",
       " 'from sklearn.preprocessing import RobustScaler',\n",
       " 'from sklearn import metrics',\n",
       " 'from scipy import signal as sg',\n",
       " 'from sklearn.cluster import KMeans',\n",
       " 'import pickle',\n",
       " 'import matplotlib as mpl',\n",
       " 'from sklearn.feature_extraction.text import CountVectorizer',\n",
       " 'from sklearn.linear_model import RidgeCV',\n",
       " 'import textblob',\n",
       " 'import dash',\n",
       " 'from sklearn.ensemble import GradientBoostingRegressor',\n",
       " 'import spacy',\n",
       " 'from dask import dataframe as dd',\n",
       " 'from sklearn.preprocessing import OneHotEncoder',\n",
       " 'from fbprophet import Prophet',\n",
       " 'from pathlib import Path',\n",
       " 'from sklearn.linear_model import LassoCV',\n",
       " 'import statistics',\n",
       " 'import nltk',\n",
       " 'import matplotlib.pyplot as plt',\n",
       " 'import lightgbm as lgb',\n",
       " 'import altair as alt',\n",
       " 'import glob',\n",
       " 'import plotly.express as px',\n",
       " 'from sklearn.ensemble import GradientBoostingClassifier',\n",
       " 'from xlrd import open_workbook',\n",
       " 'from sklearn.feature_extraction.text import TfidfVectorizer',\n",
       " 'import gensim',\n",
       " 'import tqdm',\n",
       " 'from sklearn.model_selection import KFold',\n",
       " 'import skimage',\n",
       " 'from sklearn.model_selection import StratifiedKFold',\n",
       " 'import fastai',\n",
       " 'from sklearn import svm',\n",
       " 'from sklearn.linear_model import Lasso',\n",
       " 'import plotly.graph_objs as go',\n",
       " 'import xgboost as xgb',\n",
       " 'import cv2',\n",
       " 'from sklearn.model_selection import cross_val_score',\n",
       " 'import sys',\n",
       " 'from sklearn.impute import SimpleImputer',\n",
       " 'import numpy as np',\n",
       " 'import awswrangler as wr',\n",
       " 'from sklearn.linear_model import Ridge',\n",
       " 'import seaborn as sns',\n",
       " 'from scipy import stats',\n",
       " 'import fbprophet',\n",
       " 'from sklearn.model_selection import GridSearchCV',\n",
       " 'import datetime as dt',\n",
       " 'from sklearn.preprocessing import MinMaxScaler',\n",
       " 'import imutils',\n",
       " 'from PIL import Image',\n",
       " 'from sklearn.linear_model import ElasticNet',\n",
       " 'from pyspark import SparkContext',\n",
       " 'from sklearn.model_selection import train_test_split',\n",
       " 'import pandas as pd',\n",
       " 'import pydot',\n",
       " 'import tensorflow as tf',\n",
       " 'from sklearn.ensemble import RandomForestRegressor',\n",
       " 'from sklearn.model_selection import RandomizedSearchCV',\n",
       " 'import statsmodels.api as sm',\n",
       " 'import bokeh',\n",
       " 'import re']"
      ]
     },
     "metadata": {},
     "execution_count": 3
    }
   ],
   "source": [
    "# Check imported dependencies\n",
    "lazy_imports()"
   ]
  },
  {
   "cell_type": "code",
   "execution_count": 4,
   "metadata": {},
   "outputs": [
    {
     "output_type": "display_data",
     "data": {
      "text/plain": "<IPython.core.display.Javascript object>",
      "application/javascript": "\n        if (window._pyforest_update_imports_cell) { window._pyforest_update_imports_cell('import pandas as pd'); }\n    "
     },
     "metadata": {}
    }
   ],
   "source": [
    "# Path folder configuration\n",
    "# ===============================================================================\n",
    "\n",
    "path = '../data/'\n",
    "file = 'raw/DelayedFlights.csv'\n",
    "\n",
    "df_raw = pd.read_csv(path+file)"
   ]
  },
  {
   "cell_type": "code",
   "execution_count": 5,
   "metadata": {},
   "outputs": [
    {
     "output_type": "execute_result",
     "data": {
      "text/plain": [
       "         Unnamed: 0  Year  Month  DayofMonth  DayOfWeek  DepTime  CRSDepTime  \\\n",
       "0                 0  2008      1           3          4   2003.0        1955   \n",
       "1                 1  2008      1           3          4    754.0         735   \n",
       "2                 2  2008      1           3          4    628.0         620   \n",
       "3                 4  2008      1           3          4   1829.0        1755   \n",
       "4                 5  2008      1           3          4   1940.0        1915   \n",
       "...             ...   ...    ...         ...        ...      ...         ...   \n",
       "1936753     7009710  2008     12          13          6   1250.0        1220   \n",
       "1936754     7009717  2008     12          13          6    657.0         600   \n",
       "1936755     7009718  2008     12          13          6   1007.0         847   \n",
       "1936756     7009726  2008     12          13          6   1251.0        1240   \n",
       "1936757     7009727  2008     12          13          6   1110.0        1103   \n",
       "\n",
       "         ArrTime  CRSArrTime UniqueCarrier  ...  TaxiIn TaxiOut  Cancelled  \\\n",
       "0         2211.0        2225            WN  ...     4.0     8.0          0   \n",
       "1         1002.0        1000            WN  ...     5.0    10.0          0   \n",
       "2          804.0         750            WN  ...     3.0    17.0          0   \n",
       "3         1959.0        1925            WN  ...     3.0    10.0          0   \n",
       "4         2121.0        2110            WN  ...     4.0    10.0          0   \n",
       "...          ...         ...           ...  ...     ...     ...        ...   \n",
       "1936753   1617.0        1552            DL  ...     9.0    18.0          0   \n",
       "1936754    904.0         749            DL  ...    15.0    34.0          0   \n",
       "1936755   1149.0        1010            DL  ...     8.0    32.0          0   \n",
       "1936756   1446.0        1437            DL  ...    13.0    13.0          0   \n",
       "1936757   1413.0        1418            DL  ...     8.0    11.0          0   \n",
       "\n",
       "         CancellationCode  Diverted  CarrierDelay  WeatherDelay NASDelay  \\\n",
       "0                       N         0           NaN           NaN      NaN   \n",
       "1                       N         0           NaN           NaN      NaN   \n",
       "2                       N         0           NaN           NaN      NaN   \n",
       "3                       N         0           2.0           0.0      0.0   \n",
       "4                       N         0           NaN           NaN      NaN   \n",
       "...                   ...       ...           ...           ...      ...   \n",
       "1936753                 N         0           3.0           0.0      0.0   \n",
       "1936754                 N         0           0.0          57.0     18.0   \n",
       "1936755                 N         0           1.0           0.0     19.0   \n",
       "1936756                 N         0           NaN           NaN      NaN   \n",
       "1936757                 N         0           NaN           NaN      NaN   \n",
       "\n",
       "        SecurityDelay  LateAircraftDelay  \n",
       "0                 NaN                NaN  \n",
       "1                 NaN                NaN  \n",
       "2                 NaN                NaN  \n",
       "3                 0.0               32.0  \n",
       "4                 NaN                NaN  \n",
       "...               ...                ...  \n",
       "1936753           0.0               22.0  \n",
       "1936754           0.0                0.0  \n",
       "1936755           0.0               79.0  \n",
       "1936756           NaN                NaN  \n",
       "1936757           NaN                NaN  \n",
       "\n",
       "[1936758 rows x 30 columns]"
      ],
      "text/html": "<div>\n<style scoped>\n    .dataframe tbody tr th:only-of-type {\n        vertical-align: middle;\n    }\n\n    .dataframe tbody tr th {\n        vertical-align: top;\n    }\n\n    .dataframe thead th {\n        text-align: right;\n    }\n</style>\n<table border=\"1\" class=\"dataframe\">\n  <thead>\n    <tr style=\"text-align: right;\">\n      <th></th>\n      <th>Unnamed: 0</th>\n      <th>Year</th>\n      <th>Month</th>\n      <th>DayofMonth</th>\n      <th>DayOfWeek</th>\n      <th>DepTime</th>\n      <th>CRSDepTime</th>\n      <th>ArrTime</th>\n      <th>CRSArrTime</th>\n      <th>UniqueCarrier</th>\n      <th>...</th>\n      <th>TaxiIn</th>\n      <th>TaxiOut</th>\n      <th>Cancelled</th>\n      <th>CancellationCode</th>\n      <th>Diverted</th>\n      <th>CarrierDelay</th>\n      <th>WeatherDelay</th>\n      <th>NASDelay</th>\n      <th>SecurityDelay</th>\n      <th>LateAircraftDelay</th>\n    </tr>\n  </thead>\n  <tbody>\n    <tr>\n      <th>0</th>\n      <td>0</td>\n      <td>2008</td>\n      <td>1</td>\n      <td>3</td>\n      <td>4</td>\n      <td>2003.0</td>\n      <td>1955</td>\n      <td>2211.0</td>\n      <td>2225</td>\n      <td>WN</td>\n      <td>...</td>\n      <td>4.0</td>\n      <td>8.0</td>\n      <td>0</td>\n      <td>N</td>\n      <td>0</td>\n      <td>NaN</td>\n      <td>NaN</td>\n      <td>NaN</td>\n      <td>NaN</td>\n      <td>NaN</td>\n    </tr>\n    <tr>\n      <th>1</th>\n      <td>1</td>\n      <td>2008</td>\n      <td>1</td>\n      <td>3</td>\n      <td>4</td>\n      <td>754.0</td>\n      <td>735</td>\n      <td>1002.0</td>\n      <td>1000</td>\n      <td>WN</td>\n      <td>...</td>\n      <td>5.0</td>\n      <td>10.0</td>\n      <td>0</td>\n      <td>N</td>\n      <td>0</td>\n      <td>NaN</td>\n      <td>NaN</td>\n      <td>NaN</td>\n      <td>NaN</td>\n      <td>NaN</td>\n    </tr>\n    <tr>\n      <th>2</th>\n      <td>2</td>\n      <td>2008</td>\n      <td>1</td>\n      <td>3</td>\n      <td>4</td>\n      <td>628.0</td>\n      <td>620</td>\n      <td>804.0</td>\n      <td>750</td>\n      <td>WN</td>\n      <td>...</td>\n      <td>3.0</td>\n      <td>17.0</td>\n      <td>0</td>\n      <td>N</td>\n      <td>0</td>\n      <td>NaN</td>\n      <td>NaN</td>\n      <td>NaN</td>\n      <td>NaN</td>\n      <td>NaN</td>\n    </tr>\n    <tr>\n      <th>3</th>\n      <td>4</td>\n      <td>2008</td>\n      <td>1</td>\n      <td>3</td>\n      <td>4</td>\n      <td>1829.0</td>\n      <td>1755</td>\n      <td>1959.0</td>\n      <td>1925</td>\n      <td>WN</td>\n      <td>...</td>\n      <td>3.0</td>\n      <td>10.0</td>\n      <td>0</td>\n      <td>N</td>\n      <td>0</td>\n      <td>2.0</td>\n      <td>0.0</td>\n      <td>0.0</td>\n      <td>0.0</td>\n      <td>32.0</td>\n    </tr>\n    <tr>\n      <th>4</th>\n      <td>5</td>\n      <td>2008</td>\n      <td>1</td>\n      <td>3</td>\n      <td>4</td>\n      <td>1940.0</td>\n      <td>1915</td>\n      <td>2121.0</td>\n      <td>2110</td>\n      <td>WN</td>\n      <td>...</td>\n      <td>4.0</td>\n      <td>10.0</td>\n      <td>0</td>\n      <td>N</td>\n      <td>0</td>\n      <td>NaN</td>\n      <td>NaN</td>\n      <td>NaN</td>\n      <td>NaN</td>\n      <td>NaN</td>\n    </tr>\n    <tr>\n      <th>...</th>\n      <td>...</td>\n      <td>...</td>\n      <td>...</td>\n      <td>...</td>\n      <td>...</td>\n      <td>...</td>\n      <td>...</td>\n      <td>...</td>\n      <td>...</td>\n      <td>...</td>\n      <td>...</td>\n      <td>...</td>\n      <td>...</td>\n      <td>...</td>\n      <td>...</td>\n      <td>...</td>\n      <td>...</td>\n      <td>...</td>\n      <td>...</td>\n      <td>...</td>\n      <td>...</td>\n    </tr>\n    <tr>\n      <th>1936753</th>\n      <td>7009710</td>\n      <td>2008</td>\n      <td>12</td>\n      <td>13</td>\n      <td>6</td>\n      <td>1250.0</td>\n      <td>1220</td>\n      <td>1617.0</td>\n      <td>1552</td>\n      <td>DL</td>\n      <td>...</td>\n      <td>9.0</td>\n      <td>18.0</td>\n      <td>0</td>\n      <td>N</td>\n      <td>0</td>\n      <td>3.0</td>\n      <td>0.0</td>\n      <td>0.0</td>\n      <td>0.0</td>\n      <td>22.0</td>\n    </tr>\n    <tr>\n      <th>1936754</th>\n      <td>7009717</td>\n      <td>2008</td>\n      <td>12</td>\n      <td>13</td>\n      <td>6</td>\n      <td>657.0</td>\n      <td>600</td>\n      <td>904.0</td>\n      <td>749</td>\n      <td>DL</td>\n      <td>...</td>\n      <td>15.0</td>\n      <td>34.0</td>\n      <td>0</td>\n      <td>N</td>\n      <td>0</td>\n      <td>0.0</td>\n      <td>57.0</td>\n      <td>18.0</td>\n      <td>0.0</td>\n      <td>0.0</td>\n    </tr>\n    <tr>\n      <th>1936755</th>\n      <td>7009718</td>\n      <td>2008</td>\n      <td>12</td>\n      <td>13</td>\n      <td>6</td>\n      <td>1007.0</td>\n      <td>847</td>\n      <td>1149.0</td>\n      <td>1010</td>\n      <td>DL</td>\n      <td>...</td>\n      <td>8.0</td>\n      <td>32.0</td>\n      <td>0</td>\n      <td>N</td>\n      <td>0</td>\n      <td>1.0</td>\n      <td>0.0</td>\n      <td>19.0</td>\n      <td>0.0</td>\n      <td>79.0</td>\n    </tr>\n    <tr>\n      <th>1936756</th>\n      <td>7009726</td>\n      <td>2008</td>\n      <td>12</td>\n      <td>13</td>\n      <td>6</td>\n      <td>1251.0</td>\n      <td>1240</td>\n      <td>1446.0</td>\n      <td>1437</td>\n      <td>DL</td>\n      <td>...</td>\n      <td>13.0</td>\n      <td>13.0</td>\n      <td>0</td>\n      <td>N</td>\n      <td>0</td>\n      <td>NaN</td>\n      <td>NaN</td>\n      <td>NaN</td>\n      <td>NaN</td>\n      <td>NaN</td>\n    </tr>\n    <tr>\n      <th>1936757</th>\n      <td>7009727</td>\n      <td>2008</td>\n      <td>12</td>\n      <td>13</td>\n      <td>6</td>\n      <td>1110.0</td>\n      <td>1103</td>\n      <td>1413.0</td>\n      <td>1418</td>\n      <td>DL</td>\n      <td>...</td>\n      <td>8.0</td>\n      <td>11.0</td>\n      <td>0</td>\n      <td>N</td>\n      <td>0</td>\n      <td>NaN</td>\n      <td>NaN</td>\n      <td>NaN</td>\n      <td>NaN</td>\n      <td>NaN</td>\n    </tr>\n  </tbody>\n</table>\n<p>1936758 rows × 30 columns</p>\n</div>"
     },
     "metadata": {},
     "execution_count": 5
    }
   ],
   "source": [
    "df_raw"
   ]
  },
  {
   "cell_type": "code",
   "execution_count": null,
   "metadata": {},
   "outputs": [],
   "source": []
  }
 ]
}